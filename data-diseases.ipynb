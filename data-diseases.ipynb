{
 "cells": [
  {
   "cell_type": "code",
   "execution_count": 1,
   "metadata": {},
   "outputs": [],
   "source": [
    "import pandas as pd\n",
    "from sklearn.preprocessing import StandardScaler, MinMaxScaler\n",
    "import numpy as np"
   ]
  },
  {
   "cell_type": "code",
   "execution_count": 2,
   "metadata": {},
   "outputs": [
    {
     "name": "stdout",
     "output_type": "stream",
     "text": [
      "    Entity Code  Year  \\\n",
      "0  Albania  ALB  1987   \n",
      "1  Albania  ALB  1988   \n",
      "2  Albania  ALB  1989   \n",
      "3  Albania  ALB  1992   \n",
      "4  Albania  ALB  1993   \n",
      "\n",
      "   Age-standardized deaths from respiratory diseases in both sexes per 100,000 people  \n",
      "0                                          26.313232                                   \n",
      "1                                          26.932293                                   \n",
      "2                                          25.726141                                   \n",
      "3                                          21.516480                                   \n",
      "4                                          23.432169                                   \n",
      "    Entity Code  Year  \\\n",
      "0  Albania  ALB  1987   \n",
      "1  Albania  ALB  1988   \n",
      "2  Albania  ALB  1989   \n",
      "3  Albania  ALB  1992   \n",
      "4  Albania  ALB  1993   \n",
      "\n",
      "   Age-standardized deaths from respiratory diseases in both sexes per 100,000 people  \n",
      "0                                          26.313232                                   \n",
      "1                                          26.932293                                   \n",
      "2                                          25.726141                                   \n",
      "3                                          21.516480                                   \n",
      "4                                          23.432169                                   \n"
     ]
    }
   ],
   "source": [
    "from pandas import DataFrame\n",
    "data=pd.read_csv('raw_data/chronic-respiratory-diseases-death-rate-who-mdb.csv')\n",
    "print(data.head())\n",
    "\n",
    "print(data.head())"
   ]
  },
  {
   "cell_type": "code",
   "execution_count": 3,
   "metadata": {},
   "outputs": [
    {
     "name": "stdout",
     "output_type": "stream",
     "text": [
      "         Entity  Year  \\\n",
      "0       Albania  1987   \n",
      "1       Albania  1988   \n",
      "2       Albania  1989   \n",
      "3       Albania  1992   \n",
      "4       Albania  1993   \n",
      "...         ...   ...   \n",
      "4767  Venezuela  2012   \n",
      "4768  Venezuela  2013   \n",
      "4769  Venezuela  2014   \n",
      "4770  Venezuela  2015   \n",
      "4771  Venezuela  2016   \n",
      "\n",
      "      Age-standardized deaths from respiratory diseases in both sexes per 100,000 people  \n",
      "0                                             26.313232                                   \n",
      "1                                             26.932293                                   \n",
      "2                                             25.726141                                   \n",
      "3                                             21.516480                                   \n",
      "4                                             23.432169                                   \n",
      "...                                                 ...                                   \n",
      "4767                                          23.721012                                   \n",
      "4768                                          23.691648                                   \n",
      "4769                                          26.519331                                   \n",
      "4770                                          26.790356                                   \n",
      "4771                                          27.216429                                   \n",
      "\n",
      "[4772 rows x 3 columns]\n"
     ]
    }
   ],
   "source": [
    "keepcolumn=['Entity','Year',\"Age-standardized deaths from respiratory diseases in both sexes per 100,000 people\"]\n",
    "cleandata=data[keepcolumn]\n",
    "print(cleandata)"
   ]
  },
  {
   "cell_type": "code",
   "execution_count": 4,
   "metadata": {},
   "outputs": [
    {
     "name": "stdout",
     "output_type": "stream",
     "text": [
      "         Entity  Year  \\\n",
      "0       Albania  2005   \n",
      "1       Albania  2006   \n",
      "2       Albania  2007   \n",
      "3       Albania  2008   \n",
      "4       Albania  2009   \n",
      "...         ...   ...   \n",
      "1577  Venezuela  2012   \n",
      "1578  Venezuela  2013   \n",
      "1579  Venezuela  2014   \n",
      "1580  Venezuela  2015   \n",
      "1581  Venezuela  2016   \n",
      "\n",
      "      Age-standardized deaths from respiratory diseases in both sexes per 100,000 people  \n",
      "0                                             15.173623                                   \n",
      "1                                             13.584775                                   \n",
      "2                                             11.711932                                   \n",
      "3                                             10.700809                                   \n",
      "4                                              9.940529                                   \n",
      "...                                                 ...                                   \n",
      "1577                                          23.721012                                   \n",
      "1578                                          23.691648                                   \n",
      "1579                                          26.519331                                   \n",
      "1580                                          26.790356                                   \n",
      "1581                                          27.216429                                   \n",
      "\n",
      "[1582 rows x 3 columns]\n"
     ]
    }
   ],
   "source": [
    "df = cleandata[cleandata['Year'] >= 2005]\n",
    "df = df.reset_index(drop=True)\n",
    "print(df)"
   ]
  },
  {
   "cell_type": "code",
   "execution_count": 5,
   "metadata": {},
   "outputs": [
    {
     "name": "stdout",
     "output_type": "stream",
     "text": [
      "         Entity  Year  \\\n",
      "0       Albania  2005   \n",
      "1       Albania  2006   \n",
      "2       Albania  2007   \n",
      "3       Albania  2008   \n",
      "4       Albania  2009   \n",
      "...         ...   ...   \n",
      "1577  Venezuela  2012   \n",
      "1578  Venezuela  2013   \n",
      "1579  Venezuela  2014   \n",
      "1580  Venezuela  2015   \n",
      "1581  Venezuela  2016   \n",
      "\n",
      "      Age-standardized deaths from respiratory diseases in both sexes per 100,000 people  \n",
      "0                                             15.173623                                   \n",
      "1                                             13.584775                                   \n",
      "2                                             11.711932                                   \n",
      "3                                             10.700809                                   \n",
      "4                                              9.940529                                   \n",
      "...                                                 ...                                   \n",
      "1577                                          23.721012                                   \n",
      "1578                                          23.691648                                   \n",
      "1579                                          26.519331                                   \n",
      "1580                                          26.790356                                   \n",
      "1581                                          27.216429                                   \n",
      "\n",
      "[1582 rows x 3 columns]\n"
     ]
    }
   ],
   "source": [
    "df1 = df.dropna()\n",
    "print(df1)"
   ]
  },
  {
   "cell_type": "code",
   "execution_count": 6,
   "metadata": {},
   "outputs": [
    {
     "name": "stdout",
     "output_type": "stream",
     "text": [
      "         Entity  Year  \\\n",
      "0       Albania  2005   \n",
      "1       Albania  2006   \n",
      "2       Albania  2007   \n",
      "3       Albania  2008   \n",
      "4       Albania  2009   \n",
      "...         ...   ...   \n",
      "1577  Venezuela  2012   \n",
      "1578  Venezuela  2013   \n",
      "1579  Venezuela  2014   \n",
      "1580  Venezuela  2015   \n",
      "1581  Venezuela  2016   \n",
      "\n",
      "      Age-standardized deaths from respiratory diseases in both sexes per 100,000 people  \n",
      "0                                             15.173623                                   \n",
      "1                                             13.584775                                   \n",
      "2                                             11.711932                                   \n",
      "3                                             10.700809                                   \n",
      "4                                              9.940529                                   \n",
      "...                                                 ...                                   \n",
      "1577                                          23.721012                                   \n",
      "1578                                          23.691648                                   \n",
      "1579                                          26.519331                                   \n",
      "1580                                          26.790356                                   \n",
      "1581                                          27.216429                                   \n",
      "\n",
      "[1582 rows x 3 columns]\n"
     ]
    }
   ],
   "source": [
    "df2 = df1.drop_duplicates()\n",
    "print(df2)"
   ]
  },
  {
   "cell_type": "code",
   "execution_count": 7,
   "metadata": {},
   "outputs": [
    {
     "name": "stdout",
     "output_type": "stream",
     "text": [
      "\n",
      "Filtered DataFrame (Outliers removed based on numeric columns):\n",
      "         Entity  Year  \\\n",
      "0       Albania  2005   \n",
      "1       Albania  2006   \n",
      "2       Albania  2007   \n",
      "3       Albania  2008   \n",
      "4       Albania  2009   \n",
      "...         ...   ...   \n",
      "1577  Venezuela  2012   \n",
      "1578  Venezuela  2013   \n",
      "1579  Venezuela  2014   \n",
      "1580  Venezuela  2015   \n",
      "1581  Venezuela  2016   \n",
      "\n",
      "      Age-standardized deaths from respiratory diseases in both sexes per 100,000 people  \n",
      "0                                             15.173623                                   \n",
      "1                                             13.584775                                   \n",
      "2                                             11.711932                                   \n",
      "3                                             10.700809                                   \n",
      "4                                              9.940529                                   \n",
      "...                                                 ...                                   \n",
      "1577                                          23.721012                                   \n",
      "1578                                          23.691648                                   \n",
      "1579                                          26.519331                                   \n",
      "1580                                          26.790356                                   \n",
      "1581                                          27.216429                                   \n",
      "\n",
      "[1555 rows x 3 columns]\n"
     ]
    }
   ],
   "source": [
    "from scipy import stats\n",
    "numeric_cols = df2.select_dtypes(include=[np.number])  # Select only numeric columns\n",
    "\n",
    "# Step 2: Calculate Z-scores for numeric columns\n",
    "z_scores = np.abs(stats.zscore(numeric_cols))\n",
    "\n",
    "# Step 3: Filter out rows where the z-score is greater than 3 in any numeric column\n",
    "# We use `.all(axis=1)` to keep rows where all z-scores are less than 3\n",
    "df_filtered = df2[(z_scores < 3).all(axis=1)]\n",
    "\n",
    "print(\"\\nFiltered DataFrame (Outliers removed based on numeric columns):\")\n",
    "print(df_filtered)"
   ]
  },
  {
   "cell_type": "code",
   "execution_count": 8,
   "metadata": {},
   "outputs": [
    {
     "name": "stdout",
     "output_type": "stream",
     "text": [
      "                  Entity  Death Rate  Mean Growth Rate (%)\n",
      "0                Albania    6.813598            -14.290400\n",
      "1    Antigua and Barbuda   19.863983              2.701650\n",
      "2              Argentina   42.225513             -1.702524\n",
      "3                Armenia    8.846441             -8.882595\n",
      "4              Australia   20.381325             -0.044840\n",
      "..                   ...         ...                   ...\n",
      "111       United Kingdom   25.443394             -1.960492\n",
      "112        United States   30.106623             -1.349667\n",
      "113              Uruguay   27.665596             -2.009239\n",
      "114           Uzbekistan   11.768277             -1.143326\n",
      "115            Venezuela   27.216429              1.751733\n",
      "\n",
      "[116 rows x 3 columns]\n"
     ]
    },
    {
     "name": "stderr",
     "output_type": "stream",
     "text": [
      "C:\\Users\\Erik Dahlin\\AppData\\Local\\Temp\\ipykernel_27024\\1394516688.py:15: DeprecationWarning: DataFrameGroupBy.apply operated on the grouping columns. This behavior is deprecated, and in a future version of pandas the grouping columns will be excluded from the operation. Either pass `include_groups=False` to exclude the groupings or explicitly select the grouping columns after groupby to silence this warning.\n",
      "  growth_data = data.groupby('Entity').apply(mean_growth_rate).reset_index()\n"
     ]
    }
   ],
   "source": [
    "# Renaming the long column for simplicity\n",
    "data = df_filtered.rename(columns={\n",
    "    'Age-standardized deaths from respiratory diseases in both sexes per 100,000 people': 'Death Rate'\n",
    "})\n",
    "\n",
    "# Sort by Entity and Year to ensure correct calculation\n",
    "data = data.sort_values(by=['Entity', 'Year'])\n",
    "\n",
    "# Define a function to calculate the mean growth rate over the past 10 years\n",
    "def mean_growth_rate(df):\n",
    "    df = df.tail(10)  # Keep only the last 10 years for growth calculation\n",
    "    return df['Death Rate'].pct_change().mean() * 100  # Calculate percentage growth\n",
    "\n",
    "# Group by 'Entity' and apply the function to calculate mean growth rate\n",
    "growth_data = data.groupby('Entity').apply(mean_growth_rate).reset_index()\n",
    "growth_data.columns = ['Entity', 'Mean Growth Rate (%)']\n",
    "\n",
    "# Merge the growth data with the original dataset, keeping only the latest year for each country\n",
    "latest_year_data = data.groupby('Entity').tail(1)  # Keep only the most recent year for each country\n",
    "\n",
    "# Add the mean growth rate to the latest year data\n",
    "final_data = pd.merge(latest_year_data, growth_data, on='Entity')\n",
    "\n",
    "# Show the final result\n",
    "final_data.head()\n",
    "keepcolumn=['Entity','Death Rate','Mean Growth Rate (%)']\n",
    "dfnew=final_data[keepcolumn]\n",
    "\n",
    "print(dfnew)\n",
    "\n"
   ]
  },
  {
   "cell_type": "code",
   "execution_count": 9,
   "metadata": {},
   "outputs": [],
   "source": [
    "# Save the preprocessed data to a new CSV file\n",
    "dfnew.to_csv('preprocessed_data/preprocessed_diseases.csv', index=False)"
   ]
  }
 ],
 "metadata": {
  "kernelspec": {
   "display_name": "base",
   "language": "python",
   "name": "python3"
  },
  "language_info": {
   "codemirror_mode": {
    "name": "ipython",
    "version": 3
   },
   "file_extension": ".py",
   "mimetype": "text/x-python",
   "name": "python",
   "nbconvert_exporter": "python",
   "pygments_lexer": "ipython3",
   "version": "3.11.9"
  }
 },
 "nbformat": 4,
 "nbformat_minor": 2
}
