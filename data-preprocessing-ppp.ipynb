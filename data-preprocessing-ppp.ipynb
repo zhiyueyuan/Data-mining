{
 "cells": [
  {
   "cell_type": "code",
   "execution_count": 10,
   "metadata": {},
   "outputs": [],
   "source": [
    "import pandas as pd\n",
    "from sklearn.preprocessing import StandardScaler, MinMaxScaler\n",
    "import numpy as np"
   ]
  },
  {
   "cell_type": "code",
   "execution_count": 11,
   "metadata": {},
   "outputs": [
    {
     "name": "stdout",
     "output_type": "stream",
     "text": [
      "  Country Name Country Code                      Classification Name  \\\n",
      "0  Afghanistan          AFG  Purchasing power parity (PPP) (US$ = 1)   \n",
      "1  Afghanistan          AFG  Purchasing power parity (PPP) (US$ = 1)   \n",
      "2  Afghanistan          AFG  Purchasing power parity (PPP) (US$ = 1)   \n",
      "3  Afghanistan          AFG  Purchasing power parity (PPP) (US$ = 1)   \n",
      "4  Afghanistan          AFG  Purchasing power parity (PPP) (US$ = 1)   \n",
      "\n",
      "  Classification Code                                        Series Name  \\\n",
      "0             PPPGlob  1105000:FURNISHINGS, HOUSEHOLD EQUIPMENT AND R...   \n",
      "1             PPPGlob              9020000:ACTUAL INDIVIDUAL CONSUMPTION   \n",
      "2             PPPGlob                              9080000:ACTUAL HEALTH   \n",
      "3             PPPGlob                          9280000:TOTAL CONSUMPTION   \n",
      "4             PPPGlob  9060000:ACTUAL HOUSING, WATER, ELECTRICITY, GA...   \n",
      "\n",
      "   Series Code     2017 [YR2017]     2018 [YR2018]     2019 [YR2019]  \\\n",
      "0    1105000.0                ..                ..                ..   \n",
      "1    9020000.0  13.8094358444214  13.2427116575584  12.9906604300463   \n",
      "2    9080000.0                ..                ..                ..   \n",
      "3    9280000.0                ..                ..                ..   \n",
      "4    9060000.0                ..                ..                ..   \n",
      "\n",
      "      2020 [YR2020]     2021 [YR2021] 2022 [YR2022] 2023 [YR2023]  \n",
      "0                ..                ..            ..            ..  \n",
      "1  13.2303340687141  13.2944717407227            ..            ..  \n",
      "2                ..                ..            ..            ..  \n",
      "3                ..                ..            ..            ..  \n",
      "4                ..                ..            ..            ..  \n"
     ]
    }
   ],
   "source": [
    "from pandas import DataFrame\n",
    "data=pd.read_csv('raw_data/32b0f9d4-fae4-4b15-8d52-c46365ed5839_Data.csv')\n",
    "print(data.head())\n",
    "\n"
   ]
  },
  {
   "cell_type": "code",
   "execution_count": 12,
   "metadata": {},
   "outputs": [
    {
     "name": "stdout",
     "output_type": "stream",
     "text": [
      "  Country Name                                        Series Name  \\\n",
      "0  Afghanistan  1105000:FURNISHINGS, HOUSEHOLD EQUIPMENT AND R...   \n",
      "1  Afghanistan              9020000:ACTUAL INDIVIDUAL CONSUMPTION   \n",
      "2  Afghanistan                              9080000:ACTUAL HEALTH   \n",
      "3  Afghanistan                          9280000:TOTAL CONSUMPTION   \n",
      "4  Afghanistan  9060000:ACTUAL HOUSING, WATER, ELECTRICITY, GA...   \n",
      "\n",
      "      2017 [YR2017]     2018 [YR2018]     2019 [YR2019]     2020 [YR2020]  \\\n",
      "0                ..                ..                ..                ..   \n",
      "1  13.8094358444214  13.2427116575584  12.9906604300463  13.2303340687141   \n",
      "2                ..                ..                ..                ..   \n",
      "3                ..                ..                ..                ..   \n",
      "4                ..                ..                ..                ..   \n",
      "\n",
      "      2021 [YR2021]  \n",
      "0                ..  \n",
      "1  13.2944717407227  \n",
      "2                ..  \n",
      "3                ..  \n",
      "4                ..  \n"
     ]
    }
   ],
   "source": [
    "keepcolumn=['Country Name','Series Name','2017 [YR2017]','2018 [YR2018]','2019 [YR2019]','2020 [YR2020]','2021 [YR2021]']\n",
    "cleandata=data[keepcolumn]\n",
    "print(cleandata.head())\n"
   ]
  },
  {
   "cell_type": "code",
   "execution_count": 13,
   "metadata": {},
   "outputs": [
    {
     "name": "stdout",
     "output_type": "stream",
     "text": [
      "Country Name     3\n",
      "Series Name      5\n",
      "2017 [YR2017]    5\n",
      "2018 [YR2018]    5\n",
      "2019 [YR2019]    5\n",
      "2020 [YR2020]    5\n",
      "2021 [YR2021]    5\n",
      "dtype: int64\n"
     ]
    }
   ],
   "source": [
    "print(cleandata.isnull().sum())"
   ]
  },
  {
   "cell_type": "code",
   "execution_count": 14,
   "metadata": {},
   "outputs": [
    {
     "name": "stdout",
     "output_type": "stream",
     "text": [
      "   Country Name                            Series Name      2017 [YR2017]  \\\n",
      "1   Afghanistan  9020000:ACTUAL INDIVIDUAL CONSUMPTION   13.8094358444214   \n",
      "6       Albania  9020000:ACTUAL INDIVIDUAL CONSUMPTION   43.6717224121094   \n",
      "11      Algeria  9020000:ACTUAL INDIVIDUAL CONSUMPTION   33.4219398498535   \n",
      "16      Andorra  9020000:ACTUAL INDIVIDUAL CONSUMPTION  0.690665364265442   \n",
      "21       Angola  9020000:ACTUAL INDIVIDUAL CONSUMPTION   104.142387390137   \n",
      "\n",
      "        2018 [YR2018]      2019 [YR2019]      2020 [YR2020]      2021 [YR2021]  \n",
      "1    13.2427116575584   12.9906604300463   13.2303340687141   13.2944717407227  \n",
      "6    43.9920845031738   42.3241119384766   42.3045539855957   42.5046081542969  \n",
      "11    34.376407623291   34.1513862609863   33.9824676513672   35.5952529907227  \n",
      "16  0.674318486811236  0.659377389540416  0.645631555456796  0.620928406715393  \n",
      "21   118.046165466309    130.29426574707    151.95002746582   181.260040283203  \n"
     ]
    },
    {
     "name": "stderr",
     "output_type": "stream",
     "text": [
      "C:\\Users\\Erik Dahlin\\AppData\\Local\\Temp\\ipykernel_25968\\3000125192.py:1: SettingWithCopyWarning: \n",
      "A value is trying to be set on a copy of a slice from a DataFrame\n",
      "\n",
      "See the caveats in the documentation: https://pandas.pydata.org/pandas-docs/stable/user_guide/indexing.html#returning-a-view-versus-a-copy\n",
      "  cleandata.replace('..',np.nan,inplace=True )\n"
     ]
    }
   ],
   "source": [
    "cleandata.replace('..',np.nan,inplace=True )\n",
    "\n",
    "\n",
    "df = cleandata.dropna()\n",
    "print(df.head())"
   ]
  },
  {
   "cell_type": "code",
   "execution_count": 15,
   "metadata": {},
   "outputs": [
    {
     "name": "stdout",
     "output_type": "stream",
     "text": [
      "   Country Name                            Series Name      2017 [YR2017]  \\\n",
      "1   Afghanistan  9020000:ACTUAL INDIVIDUAL CONSUMPTION   13.8094358444214   \n",
      "6       Albania  9020000:ACTUAL INDIVIDUAL CONSUMPTION   43.6717224121094   \n",
      "11      Algeria  9020000:ACTUAL INDIVIDUAL CONSUMPTION   33.4219398498535   \n",
      "16      Andorra  9020000:ACTUAL INDIVIDUAL CONSUMPTION  0.690665364265442   \n",
      "21       Angola  9020000:ACTUAL INDIVIDUAL CONSUMPTION   104.142387390137   \n",
      "\n",
      "        2018 [YR2018]      2019 [YR2019]      2020 [YR2020]      2021 [YR2021]  \n",
      "1    13.2427116575584   12.9906604300463   13.2303340687141   13.2944717407227  \n",
      "6    43.9920845031738   42.3241119384766   42.3045539855957   42.5046081542969  \n",
      "11    34.376407623291   34.1513862609863   33.9824676513672   35.5952529907227  \n",
      "16  0.674318486811236  0.659377389540416  0.645631555456796  0.620928406715393  \n",
      "21   118.046165466309    130.29426574707    151.95002746582   181.260040283203  \n"
     ]
    }
   ],
   "source": [
    "df = df.drop_duplicates()\n",
    "print(df.head())"
   ]
  },
  {
   "cell_type": "code",
   "execution_count": 16,
   "metadata": {},
   "outputs": [
    {
     "name": "stdout",
     "output_type": "stream",
     "text": [
      "Original DataFrame:\n",
      "            Country Name                            Series Name  \\\n",
      "1            Afghanistan  9020000:ACTUAL INDIVIDUAL CONSUMPTION   \n",
      "6                Albania  9020000:ACTUAL INDIVIDUAL CONSUMPTION   \n",
      "11               Algeria  9020000:ACTUAL INDIVIDUAL CONSUMPTION   \n",
      "16               Andorra  9020000:ACTUAL INDIVIDUAL CONSUMPTION   \n",
      "21                Angola  9020000:ACTUAL INDIVIDUAL CONSUMPTION   \n",
      "...                  ...                                    ...   \n",
      "1001          Uzbekistan  9020000:ACTUAL INDIVIDUAL CONSUMPTION   \n",
      "1006            Viet Nam  9020000:ACTUAL INDIVIDUAL CONSUMPTION   \n",
      "1016  West Bank and Gaza  9020000:ACTUAL INDIVIDUAL CONSUMPTION   \n",
      "1026              Zambia  9020000:ACTUAL INDIVIDUAL CONSUMPTION   \n",
      "1031            Zimbabwe  9020000:ACTUAL INDIVIDUAL CONSUMPTION   \n",
      "\n",
      "          2017 [YR2017]      2018 [YR2018]      2019 [YR2019]  \\\n",
      "1      13.8094358444214   13.2427116575584   12.9906604300463   \n",
      "6      43.6717224121094   43.9920845031738   42.3241119384766   \n",
      "11     33.4219398498535    34.376407623291   34.1513862609863   \n",
      "16    0.690665364265442  0.674318486811236  0.659377389540416   \n",
      "21     104.142387390137   118.046165466309    130.29426574707   \n",
      "...                 ...                ...                ...   \n",
      "1001   1287.36598959069   1556.28522093668   1844.70759646691   \n",
      "1006   6809.12353515625   6902.62646484375    6837.0830078125   \n",
      "1016   1.97664082050323    1.8793933391571   1.84895765781403   \n",
      "1026   3.88346552848816   4.09537267684937   4.36469125747681   \n",
      "1031   0.43987250328064  0.778757750988007  0.510226130485535   \n",
      "\n",
      "          2020 [YR2020]      2021 [YR2021]  \n",
      "1      13.2303340687141   13.2944717407227  \n",
      "6      42.3045539855957   42.5046081542969  \n",
      "11     33.9824676513672   35.5952529907227  \n",
      "16    0.645631555456796  0.620928406715393  \n",
      "21      151.95002746582   181.260040283203  \n",
      "...                 ...                ...  \n",
      "1001   2168.35905142453   2418.63134765625  \n",
      "1006   6824.20458984375      6747.19921875  \n",
      "1016   1.75979864597321   1.82879245281219  \n",
      "1026   4.88285207748413   5.66062307357788  \n",
      "1031  0.492733865976334  0.566178143024445  \n",
      "\n",
      "[188 rows x 7 columns]\n",
      "\n",
      "Filtered DataFrame (Outliers removed based on numeric columns):\n",
      "            Country Name                            Series Name  \\\n",
      "1            Afghanistan  9020000:ACTUAL INDIVIDUAL CONSUMPTION   \n",
      "6                Albania  9020000:ACTUAL INDIVIDUAL CONSUMPTION   \n",
      "11               Algeria  9020000:ACTUAL INDIVIDUAL CONSUMPTION   \n",
      "16               Andorra  9020000:ACTUAL INDIVIDUAL CONSUMPTION   \n",
      "21                Angola  9020000:ACTUAL INDIVIDUAL CONSUMPTION   \n",
      "...                  ...                                    ...   \n",
      "1001          Uzbekistan  9020000:ACTUAL INDIVIDUAL CONSUMPTION   \n",
      "1006            Viet Nam  9020000:ACTUAL INDIVIDUAL CONSUMPTION   \n",
      "1016  West Bank and Gaza  9020000:ACTUAL INDIVIDUAL CONSUMPTION   \n",
      "1026              Zambia  9020000:ACTUAL INDIVIDUAL CONSUMPTION   \n",
      "1031            Zimbabwe  9020000:ACTUAL INDIVIDUAL CONSUMPTION   \n",
      "\n",
      "          2017 [YR2017]      2018 [YR2018]      2019 [YR2019]  \\\n",
      "1      13.8094358444214   13.2427116575584   12.9906604300463   \n",
      "6      43.6717224121094   43.9920845031738   42.3241119384766   \n",
      "11     33.4219398498535    34.376407623291   34.1513862609863   \n",
      "16    0.690665364265442  0.674318486811236  0.659377389540416   \n",
      "21     104.142387390137   118.046165466309    130.29426574707   \n",
      "...                 ...                ...                ...   \n",
      "1001   1287.36598959069   1556.28522093668   1844.70759646691   \n",
      "1006   6809.12353515625   6902.62646484375    6837.0830078125   \n",
      "1016   1.97664082050323    1.8793933391571   1.84895765781403   \n",
      "1026   3.88346552848816   4.09537267684937   4.36469125747681   \n",
      "1031   0.43987250328064  0.778757750988007  0.510226130485535   \n",
      "\n",
      "          2020 [YR2020]      2021 [YR2021]  \n",
      "1      13.2303340687141   13.2944717407227  \n",
      "6      42.3045539855957   42.5046081542969  \n",
      "11     33.9824676513672   35.5952529907227  \n",
      "16    0.645631555456796  0.620928406715393  \n",
      "21      151.95002746582   181.260040283203  \n",
      "...                 ...                ...  \n",
      "1001   2168.35905142453   2418.63134765625  \n",
      "1006   6824.20458984375      6747.19921875  \n",
      "1016   1.75979864597321   1.82879245281219  \n",
      "1026   4.88285207748413   5.66062307357788  \n",
      "1031  0.492733865976334  0.566178143024445  \n",
      "\n",
      "[188 rows x 7 columns]\n"
     ]
    }
   ],
   "source": [
    "from scipy import stats\n",
    "numeric_cols = df.select_dtypes(include=[np.number])  # Select only numeric columns\n",
    "\n",
    "# Step 2: Calculate Z-scores for numeric columns\n",
    "z_scores = np.abs(stats.zscore(numeric_cols))\n",
    "\n",
    "# Step 3: Filter out rows where the z-score is greater than 3 in any numeric column\n",
    "# We use `.all(axis=1)` to keep rows where all z-scores are less than 3\n",
    "df_filtered = df[(z_scores < 3).all(axis=1)]\n",
    "\n",
    "print(\"Original DataFrame:\")\n",
    "print(df)\n",
    "\n",
    "print(\"\\nFiltered DataFrame (Outliers removed based on numeric columns):\")\n",
    "print(df_filtered)"
   ]
  },
  {
   "cell_type": "code",
   "execution_count": 17,
   "metadata": {},
   "outputs": [
    {
     "name": "stdout",
     "output_type": "stream",
     "text": [
      "            Country Name                            Series Name  \\\n",
      "1            Afghanistan  9020000:ACTUAL INDIVIDUAL CONSUMPTION   \n",
      "6                Albania  9020000:ACTUAL INDIVIDUAL CONSUMPTION   \n",
      "11               Algeria  9020000:ACTUAL INDIVIDUAL CONSUMPTION   \n",
      "16               Andorra  9020000:ACTUAL INDIVIDUAL CONSUMPTION   \n",
      "21                Angola  9020000:ACTUAL INDIVIDUAL CONSUMPTION   \n",
      "...                  ...                                    ...   \n",
      "1001          Uzbekistan  9020000:ACTUAL INDIVIDUAL CONSUMPTION   \n",
      "1006            Viet Nam  9020000:ACTUAL INDIVIDUAL CONSUMPTION   \n",
      "1016  West Bank and Gaza  9020000:ACTUAL INDIVIDUAL CONSUMPTION   \n",
      "1026              Zambia  9020000:ACTUAL INDIVIDUAL CONSUMPTION   \n",
      "1031            Zimbabwe  9020000:ACTUAL INDIVIDUAL CONSUMPTION   \n",
      "\n",
      "      2021 [YR2021]  Mean Growth 2017-2021  \n",
      "1         13.294472              13.313523  \n",
      "6         42.504608              42.959416  \n",
      "11        35.595253              34.305491  \n",
      "16         0.620928               0.658184  \n",
      "21       181.260040             137.138577  \n",
      "...             ...                    ...  \n",
      "1001    2418.631348            1855.069841  \n",
      "1006    6747.199219            6824.047363  \n",
      "1016       1.828792               1.858717  \n",
      "1026       5.660623               4.577401  \n",
      "1031       0.566178               0.557554  \n",
      "\n",
      "[188 rows x 4 columns]\n"
     ]
    }
   ],
   "source": [
    "# First, we will convert the relevant year columns to numeric, replacing invalid entries ('..') with NaN\n",
    "for year in ['2017 [YR2017]', '2018 [YR2018]', '2019 [YR2019]', '2020 [YR2020]', '2021 [YR2021]']:\n",
    "    df_filtered[year] = pd.to_numeric(df_filtered[year], errors='coerce')\n",
    "\n",
    "# Now, we calculate the mean PPP growth from 2017 to 2021\n",
    "df_filtered['Mean Growth 2017-2021'] = df_filtered[['2017 [YR2017]', '2018 [YR2018]', '2019 [YR2019]', '2020 [YR2020]', '2021 [YR2021]']].mean(axis=1)\n",
    "\n",
    "# Keep only the year 2021 data and the new column\n",
    "data_2021 = df_filtered[['Country Name',  'Series Name', '2021 [YR2021]', 'Mean Growth 2017-2021']]\n",
    "\n",
    "# Display the first few rows to verify the result\n",
    "print(data_2021)\n",
    "\n",
    "\n"
   ]
  },
  {
   "cell_type": "code",
   "execution_count": 18,
   "metadata": {},
   "outputs": [
    {
     "name": "stdout",
     "output_type": "stream",
     "text": [
      "           Country Name  2021 [YR2021]_9020000:ACTUAL INDIVIDUAL CONSUMPTION  \\\n",
      "0           Afghanistan                                          13.294472     \n",
      "1               Albania                                          42.504608     \n",
      "2               Algeria                                          35.595253     \n",
      "3               Andorra                                           0.620928     \n",
      "4                Angola                                         181.260040     \n",
      "..                  ...                                                ...     \n",
      "183          Uzbekistan                                        2418.631348     \n",
      "184            Viet Nam                                        6747.199219     \n",
      "185  West Bank and Gaza                                           1.828792     \n",
      "186              Zambia                                           5.660623     \n",
      "187            Zimbabwe                                           0.566178     \n",
      "\n",
      "     Mean Growth 2017-2021_9020000:ACTUAL INDIVIDUAL CONSUMPTION  \n",
      "0                                            13.313523            \n",
      "1                                            42.959416            \n",
      "2                                            34.305491            \n",
      "3                                             0.658184            \n",
      "4                                           137.138577            \n",
      "..                                                 ...            \n",
      "183                                        1855.069841            \n",
      "184                                        6824.047363            \n",
      "185                                           1.858717            \n",
      "186                                           4.577401            \n",
      "187                                           0.557554            \n",
      "\n",
      "[188 rows x 3 columns]\n"
     ]
    }
   ],
   "source": [
    "# Pivot the table so that 'Country Name' is the index and '2021 [YR2021]' and 'Mean Growth 2017-2021' become columns\n",
    "df_pivot = data_2021.pivot_table(index=\"Country Name\", columns=\"Series Name\", values=[\"2021 [YR2021]\", \"Mean Growth 2017-2021\"])\n",
    "\n",
    "# Flatten the multi-index columns\n",
    "df_pivot.columns = [f'{val1}_{val2}' for val1, val2 in df_pivot.columns]\n",
    "\n",
    "# Reset the index so 'Country Name' becomes a column again\n",
    "df_pivot.reset_index(inplace=True)\n",
    "\n",
    "# Display the transformed DataFrame\n",
    "print(df_pivot)"
   ]
  },
  {
   "cell_type": "code",
   "execution_count": 19,
   "metadata": {},
   "outputs": [],
   "source": [
    "# Save the preprocessed data to a new CSV file\n",
    "df_pivot.to_csv('preprocessed_data/preprocessed_ppp.csv', index=False)"
   ]
  }
 ],
 "metadata": {
  "kernelspec": {
   "display_name": "base",
   "language": "python",
   "name": "python3"
  },
  "language_info": {
   "codemirror_mode": {
    "name": "ipython",
    "version": 3
   },
   "file_extension": ".py",
   "mimetype": "text/x-python",
   "name": "python",
   "nbconvert_exporter": "python",
   "pygments_lexer": "ipython3",
   "version": "3.11.9"
  }
 },
 "nbformat": 4,
 "nbformat_minor": 2
}
