{
 "cells": [
  {
   "cell_type": "code",
   "execution_count": 8,
   "metadata": {},
   "outputs": [],
   "source": [
    "import pandas as pd\n",
    "import numpy as np\n",
    "from sklearn.preprocessing import StandardScaler, MinMaxScaler\n",
    "\n",
    "import matplotlib.pyplot as plt\n",
    "import seaborn as sns\n"
   ]
  },
  {
   "cell_type": "code",
   "execution_count": 9,
   "metadata": {},
   "outputs": [
    {
     "name": "stdout",
     "output_type": "stream",
     "text": [
      "  IndicatorCode                                          Indicator ValueType  \\\n",
      "0       SDGPM25  Concentrations of fine particulate matter (PM2.5)      text   \n",
      "1       SDGPM25  Concentrations of fine particulate matter (PM2.5)      text   \n",
      "2       SDGPM25  Concentrations of fine particulate matter (PM2.5)      text   \n",
      "3       SDGPM25  Concentrations of fine particulate matter (PM2.5)      text   \n",
      "4       SDGPM25  Concentrations of fine particulate matter (PM2.5)      text   \n",
      "\n",
      "  ParentLocationCode ParentLocation Location type SpatialDimValueCode  \\\n",
      "0                AFR         Africa       Country                 KEN   \n",
      "1                AMR       Americas       Country                 TTO   \n",
      "2                EUR         Europe       Country                 GBR   \n",
      "3                AMR       Americas       Country                 GRD   \n",
      "4                AMR       Americas       Country                 BRA   \n",
      "\n",
      "                                            Location Period type  Period  ...  \\\n",
      "0                                              Kenya        Year    2019  ...   \n",
      "1                                Trinidad and Tobago        Year    2019  ...   \n",
      "2  United Kingdom of Great Britain and Northern I...        Year    2019  ...   \n",
      "3                                            Grenada        Year    2019  ...   \n",
      "4                                             Brazil        Year    2019  ...   \n",
      "\n",
      "   FactValueUoM FactValueNumericLowPrefix FactValueNumericLow  \\\n",
      "0           NaN                       NaN                6.29   \n",
      "1           NaN                       NaN                7.44   \n",
      "2           NaN                       NaN                9.73   \n",
      "3           NaN                       NaN                7.07   \n",
      "4           NaN                       NaN                8.23   \n",
      "\n",
      "  FactValueNumericHighPrefix  FactValueNumericHigh               Value  \\\n",
      "0                        NaN                 13.74  10.01 [6.29-13.74]   \n",
      "1                        NaN                 12.55  10.02 [7.44-12.55]   \n",
      "2                        NaN                 10.39  10.06 [9.73-10.39]   \n",
      "3                        NaN                 13.20  10.08 [7.07-13.20]   \n",
      "4                        NaN                 12.46  10.09 [8.23-12.46]   \n",
      "\n",
      "   FactValueTranslationID  FactComments  Language              DateModified  \n",
      "0                     NaN           NaN        EN  2022-08-11T22:00:00.000Z  \n",
      "1                     NaN           NaN        EN  2022-08-11T22:00:00.000Z  \n",
      "2                     NaN           NaN        EN  2022-08-11T22:00:00.000Z  \n",
      "3                     NaN           NaN        EN  2022-08-11T22:00:00.000Z  \n",
      "4                     NaN           NaN        EN  2022-08-11T22:00:00.000Z  \n",
      "\n",
      "[5 rows x 34 columns]\n"
     ]
    }
   ],
   "source": [
    "data = pd.read_csv('VMcn4Vml.csv')\n",
    "\n",
    "# Display the first few rows of the dataset\n",
    "print(data.head())"
   ]
  },
  {
   "cell_type": "code",
   "execution_count": 10,
   "metadata": {},
   "outputs": [
    {
     "name": "stdout",
     "output_type": "stream",
     "text": [
      "                                            Location  Period  \\\n",
      "0                                              Kenya    2019   \n",
      "1                                Trinidad and Tobago    2019   \n",
      "2  United Kingdom of Great Britain and Northern I...    2019   \n",
      "3                                            Grenada    2019   \n",
      "4                                             Brazil    2019   \n",
      "\n",
      "   FactValueNumericLow  FactValueNumericHigh               Value  \n",
      "0                 6.29                 13.74  10.01 [6.29-13.74]  \n",
      "1                 7.44                 12.55  10.02 [7.44-12.55]  \n",
      "2                 9.73                 10.39  10.06 [9.73-10.39]  \n",
      "3                 7.07                 13.20  10.08 [7.07-13.20]  \n",
      "4                 8.23                 12.46  10.09 [8.23-12.46]  \n"
     ]
    }
   ],
   "source": [
    "# Keep only relevant columns\n",
    "columns_to_keep = ['Location', 'Period', 'FactValueNumericLow', 'FactValueNumericHigh', 'Value']\n",
    "data_cleaned = data[columns_to_keep]\n",
    "\n",
    "# Check the cleaned dataset\n",
    "print(data_cleaned.head())\n",
    "\n"
   ]
  },
  {
   "cell_type": "code",
   "execution_count": 11,
   "metadata": {},
   "outputs": [
    {
     "name": "stdout",
     "output_type": "stream",
     "text": [
      "                                            Location  Period  \\\n",
      "0                                              Kenya    2019   \n",
      "1                                Trinidad and Tobago    2019   \n",
      "2  United Kingdom of Great Britain and Northern I...    2019   \n",
      "3                                            Grenada    2019   \n",
      "4                                             Brazil    2019   \n",
      "\n",
      "   FactValueNumericLow  FactValueNumericHigh  PM2.5_Avg  \n",
      "0                 6.29                 13.74      10.01  \n",
      "1                 7.44                 12.55      10.02  \n",
      "2                 9.73                 10.39      10.06  \n",
      "3                 7.07                 13.20      10.08  \n",
      "4                 8.23                 12.46      10.09  \n"
     ]
    },
    {
     "name": "stderr",
     "output_type": "stream",
     "text": [
      "C:\\Users\\yzy\\AppData\\Local\\Temp\\ipykernel_21376\\3850545411.py:2: SettingWithCopyWarning: \n",
      "A value is trying to be set on a copy of a slice from a DataFrame.\n",
      "Try using .loc[row_indexer,col_indexer] = value instead\n",
      "\n",
      "See the caveats in the documentation: https://pandas.pydata.org/pandas-docs/stable/user_guide/indexing.html#returning-a-view-versus-a-copy\n",
      "  data_cleaned['PM2.5_Avg'] = data_cleaned['Value'].str.extract(r'(\\d+\\.\\d+)').astype(float)\n",
      "C:\\Users\\yzy\\AppData\\Local\\Temp\\ipykernel_21376\\3850545411.py:5: SettingWithCopyWarning: \n",
      "A value is trying to be set on a copy of a slice from a DataFrame\n",
      "\n",
      "See the caveats in the documentation: https://pandas.pydata.org/pandas-docs/stable/user_guide/indexing.html#returning-a-view-versus-a-copy\n",
      "  data_cleaned.drop(columns=['Value'], inplace=True)\n"
     ]
    }
   ],
   "source": [
    "# Extract the average PM2.5 value from the 'Value' column\n",
    "data_cleaned['PM2.5_Avg'] = data_cleaned['Value'].str.extract(r'(\\d+\\.\\d+)').astype(float)\n",
    "\n",
    "# Drop the old 'Value' column\n",
    "data_cleaned.drop(columns=['Value'], inplace=True) \n",
    "\n",
    "# Check the result\n",
    "print(data_cleaned.head())"
   ]
  },
  {
   "cell_type": "code",
   "execution_count": 12,
   "metadata": {},
   "outputs": [
    {
     "name": "stdout",
     "output_type": "stream",
     "text": [
      "Location                0\n",
      "Period                  0\n",
      "FactValueNumericLow     0\n",
      "FactValueNumericHigh    0\n",
      "PM2.5_Avg               0\n",
      "dtype: int64\n"
     ]
    }
   ],
   "source": [
    "# Check for missing values\n",
    "print(data_cleaned.isnull().sum())\n",
    "\n",
    "# Option 1: Drop rows with missing values\n",
    "data_cleaned = data_cleaned.dropna()\n",
    "\n",
    "# Option 2: Impute missing values (e.g., using the mean)\n",
    "# data_cleaned['FactValueNumericLow'].fillna(data_cleaned['FactValueNumericLow'].mean(), inplace=True)\n",
    "# data_cleaned['FactValueNumericHigh'].fillna(data_cleaned['FactValueNumericHigh'].mean(), inplace=True)\n"
   ]
  },
  {
   "cell_type": "code",
   "execution_count": 13,
   "metadata": {},
   "outputs": [
    {
     "name": "stdout",
     "output_type": "stream",
     "text": [
      "                                            Location  Period  \\\n",
      "0                                              Kenya    2019   \n",
      "1                                Trinidad and Tobago    2019   \n",
      "2  United Kingdom of Great Britain and Northern I...    2019   \n",
      "3                                            Grenada    2019   \n",
      "4                                             Brazil    2019   \n",
      "\n",
      "   FactValueNumericLow  FactValueNumericHigh  PM2.5_Avg  \n",
      "0            -0.889532             -0.800610  -0.900500  \n",
      "1            -0.786615             -0.844443  -0.899835  \n",
      "2            -0.581677             -0.924005  -0.897172  \n",
      "3            -0.819727             -0.820501  -0.895841  \n",
      "4            -0.715916             -0.847758  -0.895175  \n"
     ]
    }
   ],
   "source": [
    "# Standardize the PM2.5 values\n",
    "scaler = StandardScaler()\n",
    "data_cleaned[['FactValueNumericLow', 'FactValueNumericHigh', 'PM2.5_Avg']] = scaler.fit_transform(\n",
    "    data_cleaned[['FactValueNumericLow', 'FactValueNumericHigh', 'PM2.5_Avg']])\n",
    "\n",
    "# Check the standardized data\n",
    "print(data_cleaned.head())\n"
   ]
  },
  {
   "cell_type": "code",
   "execution_count": 14,
   "metadata": {},
   "outputs": [],
   "source": [
    "# Save the preprocessed data to a new CSV file\n",
    "data_cleaned.to_csv('preprocessed_pm25_data.csv', index=False)\n"
   ]
  }
 ],
 "metadata": {
  "kernelspec": {
   "display_name": "Python 3",
   "language": "python",
   "name": "python3"
  },
  "language_info": {
   "codemirror_mode": {
    "name": "ipython",
    "version": 3
   },
   "file_extension": ".py",
   "mimetype": "text/x-python",
   "name": "python",
   "nbconvert_exporter": "python",
   "pygments_lexer": "ipython3",
   "version": "3.11.4"
  }
 },
 "nbformat": 4,
 "nbformat_minor": 2
}
