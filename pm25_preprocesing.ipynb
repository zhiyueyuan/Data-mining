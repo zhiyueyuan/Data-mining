{
 "cells": [
  {
   "cell_type": "code",
   "execution_count": 48,
   "metadata": {},
   "outputs": [],
   "source": [
    "import pandas as pd\n",
    "import numpy as np\n",
    "from sklearn.preprocessing import StandardScaler, MinMaxScaler\n",
    "\n",
    "import matplotlib.pyplot as plt\n",
    "import seaborn as sns\n"
   ]
  },
  {
   "cell_type": "code",
   "execution_count": 49,
   "metadata": {},
   "outputs": [
    {
     "name": "stdout",
     "output_type": "stream",
     "text": [
      "  IndicatorCode                                          Indicator ValueType  \\\n",
      "0       SDGPM25  Concentrations of fine particulate matter (PM2.5)      text   \n",
      "1       SDGPM25  Concentrations of fine particulate matter (PM2.5)      text   \n",
      "2       SDGPM25  Concentrations of fine particulate matter (PM2.5)      text   \n",
      "3       SDGPM25  Concentrations of fine particulate matter (PM2.5)      text   \n",
      "4       SDGPM25  Concentrations of fine particulate matter (PM2.5)      text   \n",
      "\n",
      "  ParentLocationCode ParentLocation Location type SpatialDimValueCode  \\\n",
      "0                AFR         Africa       Country                 KEN   \n",
      "1                AMR       Americas       Country                 TTO   \n",
      "2                EUR         Europe       Country                 GBR   \n",
      "3                AMR       Americas       Country                 GRD   \n",
      "4                AMR       Americas       Country                 BRA   \n",
      "\n",
      "                                            Location Period type  Period  ...  \\\n",
      "0                                              Kenya        Year    2019  ...   \n",
      "1                                Trinidad and Tobago        Year    2019  ...   \n",
      "2  United Kingdom of Great Britain and Northern I...        Year    2019  ...   \n",
      "3                                            Grenada        Year    2019  ...   \n",
      "4                                             Brazil        Year    2019  ...   \n",
      "\n",
      "   FactValueUoM FactValueNumericLowPrefix FactValueNumericLow  \\\n",
      "0           NaN                       NaN                6.29   \n",
      "1           NaN                       NaN                7.44   \n",
      "2           NaN                       NaN                9.73   \n",
      "3           NaN                       NaN                7.07   \n",
      "4           NaN                       NaN                8.23   \n",
      "\n",
      "  FactValueNumericHighPrefix  FactValueNumericHigh               Value  \\\n",
      "0                        NaN                 13.74  10.01 [6.29-13.74]   \n",
      "1                        NaN                 12.55  10.02 [7.44-12.55]   \n",
      "2                        NaN                 10.39  10.06 [9.73-10.39]   \n",
      "3                        NaN                 13.20  10.08 [7.07-13.20]   \n",
      "4                        NaN                 12.46  10.09 [8.23-12.46]   \n",
      "\n",
      "   FactValueTranslationID  FactComments  Language              DateModified  \n",
      "0                     NaN           NaN        EN  2022-08-11T22:00:00.000Z  \n",
      "1                     NaN           NaN        EN  2022-08-11T22:00:00.000Z  \n",
      "2                     NaN           NaN        EN  2022-08-11T22:00:00.000Z  \n",
      "3                     NaN           NaN        EN  2022-08-11T22:00:00.000Z  \n",
      "4                     NaN           NaN        EN  2022-08-11T22:00:00.000Z  \n",
      "\n",
      "[5 rows x 34 columns]\n"
     ]
    }
   ],
   "source": [
    "data = pd.read_csv('raw_data/VMcn4Vml.csv')\n",
    "\n",
    "# Display the first few rows of the dataset\n",
    "print(data.head())"
   ]
  },
  {
   "cell_type": "code",
   "execution_count": 50,
   "metadata": {},
   "outputs": [
    {
     "name": "stdout",
     "output_type": "stream",
     "text": [
      "      Location  PM2.5_Avg_2019  PM2.5_Change_2010_2019\n",
      "0  Afghanistan         71.2370                -8.45300\n",
      "1      Albania         16.5160                -5.75000\n",
      "2      Algeria         24.8720                 1.67400\n",
      "3      Andorra          8.7375                -2.93625\n",
      "4       Angola         54.6220                13.43100\n"
     ]
    }
   ],
   "source": [
    "# Filter the data for 2010 and 2019\n",
    "data_filtered = data[data['Period'].isin([2010, 2019])]\n",
    "\n",
    "# Select relevant columns: Location, Period, and PM2.5 (FactValueNumericLow and FactValueNumericHigh)\n",
    "data_filtered = data_filtered[['Location', 'Period', 'FactValueNumericLow', 'FactValueNumericHigh']]\n",
    "\n",
    "# Compute the average PM2.5 from the low and high values\n",
    "data_filtered['PM2.5_Avg'] = data_filtered[['FactValueNumericLow', 'FactValueNumericHigh']].mean(axis=1)\n",
    "\n",
    "\n",
    "# Remove duplicates by averaging the PM2.5 values for each location and year\n",
    "data_filtered = data_filtered.groupby(['Location', 'Period'], as_index=False).agg({\n",
    "    'FactValueNumericLow': 'mean',\n",
    "    'FactValueNumericHigh': 'mean'\n",
    "})\n",
    "\n",
    "# Recompute the average PM2.5 after handling duplicates\n",
    "data_filtered['PM2.5_Avg'] = data_filtered[['FactValueNumericLow', 'FactValueNumericHigh']].mean(axis=1)\n",
    "\n",
    "# Pivot the data again\n",
    "data_pivot = data_filtered.pivot(index='Location', columns='Period', values='PM2.5_Avg').reset_index()\n",
    "\n",
    "# Calculate the average change in PM2.5 from 2010 to 2019\n",
    "data_pivot['PM2.5_Change_2010_2019'] = data_pivot[2019] - data_pivot[2010]\n",
    "\n",
    "# Keep only relevant columns\n",
    "result = data_pivot[['Location', 2019, 'PM2.5_Change_2010_2019']]\n",
    "\n",
    "# Rename columns for clarity\n",
    "result.columns = ['Location', 'PM2.5_Avg_2019', 'PM2.5_Change_2010_2019']\n",
    "\n",
    "# Display the cleaned result\n",
    "print(result.head())"
   ]
  },
  {
   "cell_type": "code",
   "execution_count": 51,
   "metadata": {},
   "outputs": [
    {
     "name": "stderr",
     "output_type": "stream",
     "text": [
      "C:\\Users\\Erik Dahlin\\AppData\\Local\\Temp\\ipykernel_26772\\2594107474.py:6: SettingWithCopyWarning: \n",
      "A value is trying to be set on a copy of a slice from a DataFrame.\n",
      "Try using .loc[row_indexer,col_indexer] = value instead\n",
      "\n",
      "See the caveats in the documentation: https://pandas.pydata.org/pandas-docs/stable/user_guide/indexing.html#returning-a-view-versus-a-copy\n",
      "  result[columns_to_scale] = scaler.fit_transform(result[columns_to_scale])\n"
     ]
    }
   ],
   "source": [
    "scaler = MinMaxScaler()\n",
    "\n",
    "columns_to_scale: list[str] = ['PM2.5_Avg_2019', 'PM2.5_Change_2010_2019']\n",
    "\n",
    "\n",
    "result[columns_to_scale] = scaler.fit_transform(result[columns_to_scale])"
   ]
  },
  {
   "cell_type": "code",
   "execution_count": 52,
   "metadata": {},
   "outputs": [],
   "source": [
    "# Save the preprocessed data to a new CSV file\n",
    "result.to_csv('preprocessed_data/preprocessed_pm25_data.csv', index=False)\n"
   ]
  }
 ],
 "metadata": {
  "kernelspec": {
   "display_name": "Python 3",
   "language": "python",
   "name": "python3"
  },
  "language_info": {
   "codemirror_mode": {
    "name": "ipython",
    "version": 3
   },
   "file_extension": ".py",
   "mimetype": "text/x-python",
   "name": "python",
   "nbconvert_exporter": "python",
   "pygments_lexer": "ipython3",
   "version": "3.11.9"
  }
 },
 "nbformat": 4,
 "nbformat_minor": 2
}
