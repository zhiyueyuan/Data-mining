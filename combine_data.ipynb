{
 "cells": [
  {
   "cell_type": "code",
   "execution_count": 5,
   "metadata": {},
   "outputs": [],
   "source": [
    "import pandas as pd\n",
    "name = 'Code'\n",
    "# Load preprocessed datasets\n",
    "pm25_data = pd.read_csv('preprocessed_data/preprocessed_pm25_data.csv')\n",
    "ppp_data = pd.read_csv('preprocessed_data/preprocessed_ppp.csv')\n",
    "disease_data = pd.read_csv('preprocessed_data/preprocessed_diseases.csv')\n",
    "urban_data = pd.read_csv('preprocessed_data/preprocessed_urban.csv')\n"
   ]
  },
  {
   "cell_type": "code",
   "execution_count": 6,
   "metadata": {},
   "outputs": [],
   "source": [
    "ppp_data = ppp_data.drop(columns=['Entity'])\n",
    "disease_data = disease_data.drop(columns=['Entity'])\n",
    "urban_data = urban_data.drop(columns=['Entity'])"
   ]
  },
  {
   "cell_type": "code",
   "execution_count": 7,
   "metadata": {},
   "outputs": [
    {
     "name": "stdout",
     "output_type": "stream",
     "text": [
      "              Location Code  PM2.5_Avg_2019  PM2.5_Change_2010_2019  \\\n",
      "0              Albania  ALB        0.169258                0.240326   \n",
      "1  Antigua and Barbuda  ATG        0.049860                0.465434   \n",
      "2            Argentina  ARG        0.101169                0.421838   \n",
      "3              Armenia  ARM        0.461819                0.191849   \n",
      "4            Australia  AUS        0.053211                0.465721   \n",
      "\n",
      "   2021 [YR2021]_9020000:ACTUAL INDIVIDUAL CONSUMPTION  \\\n",
      "0                                           0.000997     \n",
      "1                                           0.000040     \n",
      "2                                           0.000879     \n",
      "3                                           0.003331     \n",
      "4                                           0.000030     \n",
      "\n",
      "   Mean Growth 2017-2021_9020000:ACTUAL INDIVIDUAL CONSUMPTION  Death Rate  \\\n",
      "0                                           0.001785              6.813598   \n",
      "1                                           0.000078             19.863983   \n",
      "2                                           0.000881             42.225513   \n",
      "3                                           0.005889              8.846441   \n",
      "4                                           0.000055             20.381325   \n",
      "\n",
      "   Mean Growth Rate (%)  Urban population (% of total population)  \\\n",
      "0            -14.290400                                    63.799   \n",
      "1              2.701650                                    24.346   \n",
      "2             -1.702524                                    92.347   \n",
      "3             -8.882595                                    63.573   \n",
      "4             -0.044840                                    86.488   \n",
      "\n",
      "   Mean Growth (2012-2022)  \n",
      "0                59.255091  \n",
      "1                24.806727  \n",
      "2                91.743091  \n",
      "3                63.224636  \n",
      "4                85.921636  \n"
     ]
    }
   ],
   "source": [
    "# Merge datasets based on name\n",
    "combined_data = pd.merge(pm25_data, ppp_data, on=name, how='inner')\n",
    "combined_data = pd.merge(combined_data, disease_data, on=name, how='inner')\n",
    "combined_data = pd.merge(combined_data, urban_data, on=name, how='inner')\n",
    "\n",
    "# Check the merged data\n",
    "print(combined_data.head())"
   ]
  },
  {
   "cell_type": "code",
   "execution_count": 8,
   "metadata": {},
   "outputs": [],
   "source": [
    "combined_data.to_csv('preprocessed_data/combined_data.csv', index=False)"
   ]
  }
 ],
 "metadata": {
  "kernelspec": {
   "display_name": "Python 3",
   "language": "python",
   "name": "python3"
  },
  "language_info": {
   "codemirror_mode": {
    "name": "ipython",
    "version": 3
   },
   "file_extension": ".py",
   "mimetype": "text/x-python",
   "name": "python",
   "nbconvert_exporter": "python",
   "pygments_lexer": "ipython3",
   "version": "3.11.9"
  }
 },
 "nbformat": 4,
 "nbformat_minor": 2
}
