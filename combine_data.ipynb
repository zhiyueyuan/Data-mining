{
 "cells": [
  {
   "cell_type": "code",
   "execution_count": 1,
   "metadata": {},
   "outputs": [],
   "source": [
    "import pandas as pd\n",
    "name = 'Code'\n",
    "# Load preprocessed datasets\n",
    "pm25_data = pd.read_csv('preprocessed_data/preprocessed_pm25_data.csv')\n",
    "ppp_data = pd.read_csv('preprocessed_data/preprocessed_ppp.csv')\n",
    "disease_data = pd.read_csv('preprocessed_data/preprocessed_diseases.csv')\n",
    "urban_data = pd.read_csv('preprocessed_data/preprocessed_urban.csv')\n",
    "\n",
    "\n",
    "# from fuzzywuzzy import process\n",
    "\n",
    "# # List of countries in both datasets (pm25 and ppp, for example)\n",
    "# pm25_countries = pm25_data[name].unique()\n",
    "# ppp_countries = ppp_data[name].unique()\n",
    "\n",
    "# # Create a dictionary to store mappings where the match is 90 or above\n",
    "# country_name_mapping = {}\n",
    "\n",
    "# # Iterate over the countries in the PM2.5 dataset\n",
    "# for country in pm25_countries:\n",
    "#     # Find the best match from the PPP dataset\n",
    "#     match, score = process.extractOne(country, ppp_countries)\n",
    "    \n",
    "#     # If the match score is 90 or higher, add to the mapping dictionary\n",
    "#     if score >= 50:\n",
    "#         country_name_mapping[country] = match\n",
    "\n",
    "# # Print the mapping of renamed countries\n",
    "# print(\"Country name mapping:\")\n",
    "# print(country_name_mapping)\n",
    "\n",
    "# # Save the country name mapping (90% match or higher) to a text file\n",
    "# with open('country_mapping_pm25_ppp.txt', 'w') as file:\n",
    "#     for original, mapped in country_name_mapping.items():\n",
    "#         file.write(f\"{original} -> {mapped}\\n\")\n",
    "\n",
    "# print(\"Country name mapping has been saved to 'country_mapping_pm25_ppp.txt'.\")\n",
    "\n"
   ]
  },
  {
   "cell_type": "code",
   "execution_count": 9,
   "metadata": {},
   "outputs": [
    {
     "name": "stdout",
     "output_type": "stream",
     "text": [
      "['Afghanistan' 'Albania' 'Algeria' 'Andorra' 'Angola'\n",
      " 'Antigua and Barbuda' 'Argentina' 'Armenia' 'Australia' 'Austria'\n",
      " 'Azerbaijan' 'Bahamas, The' 'Bahrain' 'Bangladesh' 'Barbados' 'Belarus'\n",
      " 'Belgium' 'Belize' 'Benin' 'Bhutan' 'Bolivia' 'Bosnia and Herzegovina'\n",
      " 'Botswana' 'Brazil' 'Brunei Darussalam' 'Bulgaria' 'Burkina Faso'\n",
      " 'Burundi' 'Cabo Verde' 'Cambodia' 'Cameroon' 'Canada'\n",
      " 'Central African Republic' 'Chad' 'Chile' 'China' 'Colombia' 'Comoros'\n",
      " 'Congo, Dem. Rep.' 'Cook Islands' 'Costa Rica' \"Cote d'Ivoire\" 'Croatia'\n",
      " 'Cuba' 'Cyprus' 'Czechia' \"Democratic People's Republic of Korea\"\n",
      " 'Democratic Republic of the Congo' 'Denmark' 'Djibouti' 'Dominica'\n",
      " 'Dominican Republic' 'Ecuador' 'Egypt, Arab Rep.' 'El Salvador'\n",
      " 'Equatorial Guinea' 'Eritrea' 'Estonia' 'Eswatini' 'Ethiopia' 'Fiji'\n",
      " 'Finland' 'France' 'Gabon' 'Gambia, The' 'Georgia' 'Germany' 'Ghana'\n",
      " 'Greece' 'Grenada' 'Guatemala' 'Guinea' 'Guinea-Bissau' 'Guyana' 'Haiti'\n",
      " 'Honduras' 'Hungary' 'Iceland' 'India' 'Indonesia'\n",
      " 'Iran (Islamic Republic of)' 'Iraq' 'Ireland' 'Israel' 'Italy' 'Jamaica'\n",
      " 'Japan' 'Jordan' 'Kazakhstan' 'Kenya' 'Kiribati' 'Kuwait' 'Kyrgyzstan'\n",
      " \"Lao People's Democratic Republic\" 'Latvia' 'Lebanon' 'Lesotho' 'Liberia'\n",
      " 'Libya' 'Lithuania' 'Luxembourg' 'Madagascar' 'Malawi' 'Malaysia'\n",
      " 'Maldives' 'Mali' 'Malta' 'Marshall Islands' 'Mauritania' 'Mauritius'\n",
      " 'Mexico' 'Micronesia (Federated States of)' 'Monaco' 'Mongolia'\n",
      " 'Montenegro' 'Morocco' 'Mozambique' 'Myanmar' 'Namibia' 'Nauru' 'Nepal'\n",
      " 'Netherlands' 'New Zealand' 'Nicaragua' 'Niger' 'Nigeria' 'Niue'\n",
      " 'North Macedonia' 'Norway' 'Oman' 'Pakistan' 'Palau' 'Panama' 'Paraguay'\n",
      " 'Peru' 'Philippines' 'Poland' 'Portugal' 'Qatar' 'Republic of Korea'\n",
      " 'Moldova' 'Romania' 'Russian Federation' 'Rwanda' 'St. Kitts and Nevis'\n",
      " 'Saint Lucia' 'St. Vincent and the Grenadines' 'Samoa' 'San Marino'\n",
      " 'Sao Tome and Principe' 'Saudi Arabia' 'Senegal' 'Serbia' 'Seychelles'\n",
      " 'Sierra Leone' 'Singapore' 'Slovakia' 'Slovenia' 'Solomon Islands'\n",
      " 'Somalia' 'South Africa' 'Sudan' 'Spain' 'Sri Lanka' 'Suriname' 'Sweden'\n",
      " 'Switzerland' 'Syrian Arab Republic' 'Tajikistan' 'Thailand'\n",
      " 'Timor-Leste' 'Togo' 'Tonga' 'Trinidad and Tobago' 'Tunisia'\n",
      " 'Turkmenistan' 'Tuvalu' 'Turkiye' 'Uganda' 'Ukraine'\n",
      " 'United Arab Emirates' 'Tanzania' 'United States' 'Uruguay' 'Uzbekistan'\n",
      " 'Vanuatu' 'Venezuela (Bolivarian Republic of)' 'Viet Nam' 'Yemen'\n",
      " 'Zambia' 'Zimbabwe'\n",
      " 'occupied Palestinian territory, including east Jerusalem']\n"
     ]
    }
   ],
   "source": [
    "# pm25_data[name] = pm25_data[name].replace(country_name_mapping)\n",
    "\n",
    "# # Verify that the changes were applied\n",
    "# print(pm25_data[name].unique())"
   ]
  },
  {
   "cell_type": "code",
   "execution_count": 2,
   "metadata": {},
   "outputs": [
    {
     "name": "stdout",
     "output_type": "stream",
     "text": [
      "              Location Code  PM2.5_Avg_2019  PM2.5_Change_2010_2019  \\\n",
      "0              Albania  ALB        0.169258                0.240326   \n",
      "1  Antigua and Barbuda  ATG        0.049860                0.465434   \n",
      "2            Argentina  ARG        0.101169                0.421838   \n",
      "3              Armenia  ARM        0.461819                0.191849   \n",
      "4            Australia  AUS        0.053211                0.465721   \n",
      "\n",
      "              Entity_x  2021 [YR2021]_9020000:ACTUAL INDIVIDUAL CONSUMPTION  \\\n",
      "0              Albania                                           0.000997     \n",
      "1  Antigua and Barbuda                                           0.000040     \n",
      "2            Argentina                                           0.000879     \n",
      "3              Armenia                                           0.003331     \n",
      "4            Australia                                           0.000030     \n",
      "\n",
      "   Mean Growth 2017-2021_9020000:ACTUAL INDIVIDUAL CONSUMPTION  \\\n",
      "0                                           0.001785             \n",
      "1                                           0.000078             \n",
      "2                                           0.000881             \n",
      "3                                           0.005889             \n",
      "4                                           0.000055             \n",
      "\n",
      "              Entity_y  Death Rate  Mean Growth Rate (%)               Entity  \\\n",
      "0              Albania    6.813598            -14.290400              Albania   \n",
      "1  Antigua and Barbuda   19.863983              2.701650  Antigua and Barbuda   \n",
      "2            Argentina   42.225513             -1.702524            Argentina   \n",
      "3              Armenia    8.846441             -8.882595              Armenia   \n",
      "4            Australia   20.381325             -0.044840            Australia   \n",
      "\n",
      "   Urban population (% of total population)  Mean Growth (2012-2022)  \n",
      "0                                    63.799                59.255091  \n",
      "1                                    24.346                24.806727  \n",
      "2                                    92.347                91.743091  \n",
      "3                                    63.573                63.224636  \n",
      "4                                    86.488                85.921636  \n"
     ]
    }
   ],
   "source": [
    "# Merge datasets based on name\n",
    "combined_data = pd.merge(pm25_data, ppp_data, on=name, how='inner')\n",
    "combined_data = pd.merge(combined_data, disease_data, on=name, how='inner')\n",
    "combined_data = pd.merge(combined_data, urban_data, on=name, how='inner')\n",
    "\n",
    "# Check the merged data\n",
    "print(combined_data.head())"
   ]
  },
  {
   "cell_type": "code",
   "execution_count": 5,
   "metadata": {},
   "outputs": [
    {
     "name": "stdout",
     "output_type": "stream",
     "text": [
      "Countries in PM2.5 but not in PPP: {'Saint Lucia', 'Democratic Republic of the Congo', 'Netherlands (Kingdom of the)', 'Niue', 'United Republic of Tanzania', 'Vanuatu', 'Micronesia (Federated States of)', 'Marshall Islands', 'Monaco', 'Türkiye', 'Saint Kitts and Nevis', 'Palau', 'Nauru', 'South Sudan', 'Iran (Islamic Republic of)', 'Slovakia', 'Republic of Moldova', 'Cuba', 'Saint Vincent and the Grenadines', 'Tonga', 'Venezuela (Bolivarian Republic of)', 'Cook Islands', 'United Kingdom of Great Britain and Northern Ireland', 'Samoa', 'Bolivia (Plurinational State of)', 'United States of America', 'Egypt', 'Republic of Korea', \"Lao People's Democratic Republic\", 'occupied Palestinian territory, including east Jerusalem', 'Solomon Islands', 'Tuvalu', 'Kiribati', 'Yemen', \"Democratic People's Republic of Korea\", 'Kyrgyzstan', 'Bahamas', 'Gambia', 'Papua New Guinea', 'Congo'}\n",
      "Countries in PPP but not in PM2.5: {'Puerto Rico', 'Taiwan, China', 'Slovak Republic', 'Netherlands', 'Congo, Rep.', 'Turkiye', 'Hong Kong SAR, China', 'Kyrgyz Republic', 'Turks and Caicos Islands', 'Egypt, Arab Rep.', 'Gambia, The', 'West Bank and Gaza', 'Montserrat', 'United Kingdom', 'Bermuda', 'Sint Maarten', 'St. Kitts and Nevis', 'Moldova', 'Bolivia', 'Korea, Rep.', 'Lao PDR', 'Anguilla', 'United States', 'Cayman Islands', 'Congo, Dem. Rep.', 'St. Vincent and the Grenadines', 'Tanzania', 'Aruba', 'Macao SAR, China', 'Iran, Islamic Rep.', 'St. Lucia', 'Bahamas, The', 'Curacao'}\n"
     ]
    }
   ],
   "source": [
    "# Get unique country names from each dataset\n",
    "pm25_countries = set(pm25_data[name].unique())\n",
    "ppp_countries = set(ppp_data[name].unique())\n",
    "disease_countries = set(disease_data[name].unique())\n",
    "\n",
    "# Identify country names in one dataset that don't appear in the others\n",
    "missing_in_ppp = pm25_countries - ppp_countries\n",
    "missing_in_pm25 = ppp_countries - pm25_countries\n",
    "\n",
    "# Print out the discrepancies\n",
    "print(\"Countries in PM2.5 but not in PPP:\", missing_in_ppp)\n",
    "print(\"Countries in PPP but not in PM2.5:\", missing_in_pm25)\n"
   ]
  },
  {
   "cell_type": "code",
   "execution_count": 3,
   "metadata": {},
   "outputs": [],
   "source": [
    "combined_data.to_csv('preprocessed_data/combined_data.csv', index=False)"
   ]
  }
 ],
 "metadata": {
  "kernelspec": {
   "display_name": "Python 3",
   "language": "python",
   "name": "python3"
  },
  "language_info": {
   "codemirror_mode": {
    "name": "ipython",
    "version": 3
   },
   "file_extension": ".py",
   "mimetype": "text/x-python",
   "name": "python",
   "nbconvert_exporter": "python",
   "pygments_lexer": "ipython3",
   "version": "3.11.9"
  }
 },
 "nbformat": 4,
 "nbformat_minor": 2
}
