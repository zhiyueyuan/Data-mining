{
 "cells": [
  {
   "cell_type": "code",
   "execution_count": 5,
   "metadata": {},
   "outputs": [],
   "source": [
    "import pandas as pd\n",
    "from sklearn.preprocessing import StandardScaler, MinMaxScaler\n",
    "import numpy as np"
   ]
  },
  {
   "cell_type": "code",
   "execution_count": 6,
   "metadata": {},
   "outputs": [
    {
     "name": "stdout",
     "output_type": "stream",
     "text": [
      "        Entity Code  Year  Urban population (% of total population)  \\\n",
      "0  Afghanistan  AFG  1960                                     8.401   \n",
      "1  Afghanistan  AFG  1961                                     8.684   \n",
      "2  Afghanistan  AFG  1962                                     8.976   \n",
      "3  Afghanistan  AFG  1963                                     9.276   \n",
      "4  Afghanistan  AFG  1964                                     9.586   \n",
      "\n",
      "   Rural population (% of total population)  \n",
      "0                                    91.599  \n",
      "1                                    91.316  \n",
      "2                                    91.024  \n",
      "3                                    90.724  \n",
      "4                                    90.414  \n"
     ]
    }
   ],
   "source": [
    "from pandas import DataFrame\n",
    "data=pd.read_csv('share-urban-and-rural-population.csv')\n",
    "print(data.head())\n"
   ]
  },
  {
   "cell_type": "code",
   "execution_count": 7,
   "metadata": {},
   "outputs": [
    {
     "name": "stdout",
     "output_type": "stream",
     "text": [
      "            Entity  Year  Urban population (% of total population)\n",
      "0      Afghanistan  1960                                     8.401\n",
      "1      Afghanistan  1961                                     8.684\n",
      "2      Afghanistan  1962                                     8.976\n",
      "3      Afghanistan  1963                                     9.276\n",
      "4      Afghanistan  1964                                     9.586\n",
      "...            ...   ...                                       ...\n",
      "14422     Zimbabwe  2018                                    32.209\n",
      "14423     Zimbabwe  2019                                    32.210\n",
      "14424     Zimbabwe  2020                                    32.242\n",
      "14425     Zimbabwe  2021                                    32.303\n",
      "14426     Zimbabwe  2022                                    32.395\n",
      "\n",
      "[14427 rows x 3 columns]\n"
     ]
    }
   ],
   "source": [
    "keepcolumn=['Entity','Year','Urban population (% of total population)']\n",
    "cleandata=data[keepcolumn]\n",
    "print(cleandata)"
   ]
  },
  {
   "cell_type": "code",
   "execution_count": 8,
   "metadata": {},
   "outputs": [
    {
     "name": "stdout",
     "output_type": "stream",
     "text": [
      "            Entity  Year  Urban population (% of total population)\n",
      "0      Afghanistan  1960                                     8.401\n",
      "1      Afghanistan  1961                                     8.684\n",
      "2      Afghanistan  1962                                     8.976\n",
      "3      Afghanistan  1963                                     9.276\n",
      "4      Afghanistan  1964                                     9.586\n",
      "...            ...   ...                                       ...\n",
      "14422     Zimbabwe  2018                                    32.209\n",
      "14423     Zimbabwe  2019                                    32.210\n",
      "14424     Zimbabwe  2020                                    32.242\n",
      "14425     Zimbabwe  2021                                    32.303\n",
      "14426     Zimbabwe  2022                                    32.395\n",
      "\n",
      "[14427 rows x 3 columns]\n",
      "            Entity  Year  Urban population (% of total population)\n",
      "0      Afghanistan  1960                                     8.401\n",
      "1      Afghanistan  1961                                     8.684\n",
      "2      Afghanistan  1962                                     8.976\n",
      "3      Afghanistan  1963                                     9.276\n",
      "4      Afghanistan  1964                                     9.586\n",
      "...            ...   ...                                       ...\n",
      "14422     Zimbabwe  2018                                    32.209\n",
      "14423     Zimbabwe  2019                                    32.210\n",
      "14424     Zimbabwe  2020                                    32.242\n",
      "14425     Zimbabwe  2021                                    32.303\n",
      "14426     Zimbabwe  2022                                    32.395\n",
      "\n",
      "[14427 rows x 3 columns]\n"
     ]
    }
   ],
   "source": [
    "df1 = cleandata.dropna()\n",
    "print(df1)\n",
    "df2 = df1.drop_duplicates()\n",
    "print(df2)\n"
   ]
  },
  {
   "cell_type": "code",
   "execution_count": 9,
   "metadata": {},
   "outputs": [
    {
     "name": "stdout",
     "output_type": "stream",
     "text": [
      "\n",
      "Filtered DataFrame (Outliers removed based on numeric columns):\n",
      "            Entity  Year  Urban population (% of total population)\n",
      "0      Afghanistan  1960                                     8.401\n",
      "1      Afghanistan  1961                                     8.684\n",
      "2      Afghanistan  1962                                     8.976\n",
      "3      Afghanistan  1963                                     9.276\n",
      "4      Afghanistan  1964                                     9.586\n",
      "...            ...   ...                                       ...\n",
      "14422     Zimbabwe  2018                                    32.209\n",
      "14423     Zimbabwe  2019                                    32.210\n",
      "14424     Zimbabwe  2020                                    32.242\n",
      "14425     Zimbabwe  2021                                    32.303\n",
      "14426     Zimbabwe  2022                                    32.395\n",
      "\n",
      "[14427 rows x 3 columns]\n"
     ]
    }
   ],
   "source": [
    "from scipy import stats\n",
    "numeric_cols = df2.select_dtypes(include=[np.number])  # Select only numeric columns\n",
    "\n",
    "# Step 2: Calculate Z-scores for numeric columns\n",
    "z_scores = np.abs(stats.zscore(numeric_cols))\n",
    "\n",
    "# Step 3: Filter out rows where the z-score is greater than 3 in any numeric column\n",
    "# We use `.all(axis=1)` to keep rows where all z-scores are less than 3\n",
    "df_filtered = df2[(z_scores < 3).all(axis=1)]\n",
    "\n",
    "print(\"\\nFiltered DataFrame (Outliers removed based on numeric columns):\")\n",
    "print(df_filtered)"
   ]
  },
  {
   "cell_type": "code",
   "execution_count": 12,
   "metadata": {},
   "outputs": [
    {
     "name": "stdout",
     "output_type": "stream",
     "text": [
      "           Entity  Urban population (% of total population)  \\\n",
      "0     Afghanistan                                    26.616   \n",
      "1         Albania                                    63.799   \n",
      "2         Algeria                                    74.772   \n",
      "3  American Samoa                                    87.196   \n",
      "4         Andorra                                    87.811   \n",
      "\n",
      "   Mean Growth (2012-2022)  \n",
      "0                25.308909  \n",
      "1                59.255091  \n",
      "2                71.968636  \n",
      "3                87.225455  \n",
      "4                88.180273  \n"
     ]
    }
   ],
   "source": [
    "# Filter the data for the years 2012 to 2022\n",
    "df_10_years = df_filtered[(df_filtered['Year'] >= 2012) & (df_filtered['Year'] <= 2022)]\n",
    "\n",
    "# Calculate the mean urban population growth for each country over the past 10 years\n",
    "df_mean_growth = df_10_years.groupby('Entity')['Urban population (% of total population)'].mean().reset_index()\n",
    "\n",
    "# Filter the data to only keep the year 2022\n",
    "df_2022 = df_filtered[df_filtered['Year'] == 2022]\n",
    "\n",
    "# Merge the mean growth data with the 2022 data\n",
    "df_2022 = df_2022.merge(df_mean_growth, on='Entity', suffixes=('', '_mean_growth'))\n",
    "\n",
    "# Rename the new column for clarity\n",
    "df_2022.rename(columns={'Urban population (% of total population)_mean_growth': 'Mean Growth (2012-2022)'}, inplace=True)\n",
    "\n",
    "# Display the updated dataframe with the new column for mean growth\n",
    "df_2022.head()\n",
    "keepcolumn=['Entity','Urban population (% of total population)','Mean Growth (2012-2022)']\n",
    "final=df_2022[keepcolumn]\n",
    "print(final.head())"
   ]
  }
 ],
 "metadata": {
  "kernelspec": {
   "display_name": "base",
   "language": "python",
   "name": "python3"
  },
  "language_info": {
   "codemirror_mode": {
    "name": "ipython",
    "version": 3
   },
   "file_extension": ".py",
   "mimetype": "text/x-python",
   "name": "python",
   "nbconvert_exporter": "python",
   "pygments_lexer": "ipython3",
   "version": "3.11.4"
  }
 },
 "nbformat": 4,
 "nbformat_minor": 2
}
