{
 "cells": [
  {
   "cell_type": "code",
   "execution_count": 1,
   "metadata": {},
   "outputs": [],
   "source": [
    "import pandas as pd\n",
    "from sklearn.preprocessing import StandardScaler, MinMaxScaler\n",
    "import numpy as np"
   ]
  },
  {
   "cell_type": "code",
   "execution_count": 2,
   "metadata": {},
   "outputs": [
    {
     "name": "stdout",
     "output_type": "stream",
     "text": [
      "        Entity Code  Year  Urban population (% of total population)  \\\n",
      "0  Afghanistan  AFG  1960                                     8.401   \n",
      "1  Afghanistan  AFG  1961                                     8.684   \n",
      "2  Afghanistan  AFG  1962                                     8.976   \n",
      "3  Afghanistan  AFG  1963                                     9.276   \n",
      "4  Afghanistan  AFG  1964                                     9.586   \n",
      "\n",
      "   Rural population (% of total population)  \n",
      "0                                    91.599  \n",
      "1                                    91.316  \n",
      "2                                    91.024  \n",
      "3                                    90.724  \n",
      "4                                    90.414  \n"
     ]
    }
   ],
   "source": [
    "from pandas import DataFrame\n",
    "data=pd.read_csv('raw_data/share-urban-and-rural-population.csv')\n",
    "print(data.head())\n"
   ]
  },
  {
   "cell_type": "code",
   "execution_count": 3,
   "metadata": {},
   "outputs": [
    {
     "name": "stdout",
     "output_type": "stream",
     "text": [
      "            Entity Code  Year  Urban population (% of total population)\n",
      "0      Afghanistan  AFG  1960                                     8.401\n",
      "1      Afghanistan  AFG  1961                                     8.684\n",
      "2      Afghanistan  AFG  1962                                     8.976\n",
      "3      Afghanistan  AFG  1963                                     9.276\n",
      "4      Afghanistan  AFG  1964                                     9.586\n",
      "...            ...  ...   ...                                       ...\n",
      "14422     Zimbabwe  ZWE  2018                                    32.209\n",
      "14423     Zimbabwe  ZWE  2019                                    32.210\n",
      "14424     Zimbabwe  ZWE  2020                                    32.242\n",
      "14425     Zimbabwe  ZWE  2021                                    32.303\n",
      "14426     Zimbabwe  ZWE  2022                                    32.395\n",
      "\n",
      "[14427 rows x 4 columns]\n"
     ]
    }
   ],
   "source": [
    "keepcolumn=['Entity', 'Code'  ,'Year','Urban population (% of total population)']\n",
    "cleandata=data[keepcolumn]\n",
    "print(cleandata)"
   ]
  },
  {
   "cell_type": "code",
   "execution_count": 4,
   "metadata": {},
   "outputs": [
    {
     "name": "stdout",
     "output_type": "stream",
     "text": [
      "            Entity Code  Year  Urban population (% of total population)\n",
      "0      Afghanistan  AFG  1960                                     8.401\n",
      "1      Afghanistan  AFG  1961                                     8.684\n",
      "2      Afghanistan  AFG  1962                                     8.976\n",
      "3      Afghanistan  AFG  1963                                     9.276\n",
      "4      Afghanistan  AFG  1964                                     9.586\n",
      "...            ...  ...   ...                                       ...\n",
      "14422     Zimbabwe  ZWE  2018                                    32.209\n",
      "14423     Zimbabwe  ZWE  2019                                    32.210\n",
      "14424     Zimbabwe  ZWE  2020                                    32.242\n",
      "14425     Zimbabwe  ZWE  2021                                    32.303\n",
      "14426     Zimbabwe  ZWE  2022                                    32.395\n",
      "\n",
      "[13545 rows x 4 columns]\n",
      "            Entity Code  Year  Urban population (% of total population)\n",
      "0      Afghanistan  AFG  1960                                     8.401\n",
      "1      Afghanistan  AFG  1961                                     8.684\n",
      "2      Afghanistan  AFG  1962                                     8.976\n",
      "3      Afghanistan  AFG  1963                                     9.276\n",
      "4      Afghanistan  AFG  1964                                     9.586\n",
      "...            ...  ...   ...                                       ...\n",
      "14422     Zimbabwe  ZWE  2018                                    32.209\n",
      "14423     Zimbabwe  ZWE  2019                                    32.210\n",
      "14424     Zimbabwe  ZWE  2020                                    32.242\n",
      "14425     Zimbabwe  ZWE  2021                                    32.303\n",
      "14426     Zimbabwe  ZWE  2022                                    32.395\n",
      "\n",
      "[13545 rows x 4 columns]\n"
     ]
    }
   ],
   "source": [
    "df1 = cleandata.dropna()\n",
    "print(df1)\n",
    "df2 = df1.drop_duplicates()\n",
    "print(df2)\n"
   ]
  },
  {
   "cell_type": "code",
   "execution_count": 5,
   "metadata": {},
   "outputs": [
    {
     "name": "stdout",
     "output_type": "stream",
     "text": [
      "\n",
      "Filtered DataFrame (Outliers removed based on numeric columns):\n",
      "            Entity Code  Year  Urban population (% of total population)\n",
      "0      Afghanistan  AFG  1960                                     8.401\n",
      "1      Afghanistan  AFG  1961                                     8.684\n",
      "2      Afghanistan  AFG  1962                                     8.976\n",
      "3      Afghanistan  AFG  1963                                     9.276\n",
      "4      Afghanistan  AFG  1964                                     9.586\n",
      "...            ...  ...   ...                                       ...\n",
      "14422     Zimbabwe  ZWE  2018                                    32.209\n",
      "14423     Zimbabwe  ZWE  2019                                    32.210\n",
      "14424     Zimbabwe  ZWE  2020                                    32.242\n",
      "14425     Zimbabwe  ZWE  2021                                    32.303\n",
      "14426     Zimbabwe  ZWE  2022                                    32.395\n",
      "\n",
      "[13545 rows x 4 columns]\n"
     ]
    }
   ],
   "source": [
    "from scipy import stats\n",
    "numeric_cols = df2.select_dtypes(include=[np.number])  # Select only numeric columns\n",
    "\n",
    "# Step 2: Calculate Z-scores for numeric columns\n",
    "z_scores = np.abs(stats.zscore(numeric_cols))\n",
    "\n",
    "# Step 3: Filter out rows where the z-score is greater than 3 in any numeric column\n",
    "# We use `.all(axis=1)` to keep rows where all z-scores are less than 3\n",
    "df_filtered = df2[(z_scores < 3).all(axis=1)]\n",
    "\n",
    "print(\"\\nFiltered DataFrame (Outliers removed based on numeric columns):\")\n",
    "print(df_filtered)"
   ]
  },
  {
   "cell_type": "code",
   "execution_count": 6,
   "metadata": {},
   "outputs": [
    {
     "name": "stdout",
     "output_type": "stream",
     "text": [
      "           Entity Code  Urban population (% of total population)  \\\n",
      "0     Afghanistan  AFG                                    26.616   \n",
      "1         Albania  ALB                                    63.799   \n",
      "2         Algeria  DZA                                    74.772   \n",
      "3  American Samoa  ASM                                    87.196   \n",
      "4         Andorra  AND                                    87.811   \n",
      "\n",
      "   Mean Growth (2012-2022)  \n",
      "0                25.308909  \n",
      "1                59.255091  \n",
      "2                71.968636  \n",
      "3                87.225455  \n",
      "4                88.180273  \n"
     ]
    }
   ],
   "source": [
    "# Filter the data for the years 2012 to 2022\n",
    "df_10_years = df_filtered[(df_filtered['Year'] >= 2012) & (df_filtered['Year'] <= 2022)]\n",
    "\n",
    "# Calculate the mean urban population growth for each country over the past 10 years\n",
    "df_mean_growth = df_10_years.groupby('Entity')['Urban population (% of total population)'].mean().reset_index()\n",
    "\n",
    "# Filter the data to only keep the year 2022\n",
    "df_2022 = df_filtered[df_filtered['Year'] == 2022]\n",
    "\n",
    "# Merge the mean growth data with the 2022 data\n",
    "df_2022 = df_2022.merge(df_mean_growth, on='Entity', suffixes=('', '_mean_growth'))\n",
    "\n",
    "# Rename the new column for clarity\n",
    "df_2022.rename(columns={'Urban population (% of total population)_mean_growth': 'Mean Growth (2012-2022)'}, inplace=True)\n",
    "\n",
    "# Display the updated dataframe with the new column for mean growth\n",
    "df_2022.head()\n",
    "keepcolumn=['Entity', 'Code', 'Urban population (% of total population)','Mean Growth (2012-2022)']\n",
    "final=df_2022[keepcolumn]\n",
    "print(final.head())"
   ]
  },
  {
   "cell_type": "code",
   "execution_count": 7,
   "metadata": {},
   "outputs": [
    {
     "name": "stderr",
     "output_type": "stream",
     "text": [
      "C:\\Users\\Erik Dahlin\\AppData\\Local\\Temp\\ipykernel_27548\\1127726872.py:6: SettingWithCopyWarning: \n",
      "A value is trying to be set on a copy of a slice from a DataFrame.\n",
      "Try using .loc[row_indexer,col_indexer] = value instead\n",
      "\n",
      "See the caveats in the documentation: https://pandas.pydata.org/pandas-docs/stable/user_guide/indexing.html#returning-a-view-versus-a-copy\n",
      "  final[columns_to_scale] = scaler.fit_transform(final[columns_to_scale])\n"
     ]
    }
   ],
   "source": [
    "scaler = MinMaxScaler()\n",
    "\n",
    "columns_to_scale: list[str] = ['Urban population (% of total population)','Mean Growth (2012-2022)']\n",
    "\n",
    "\n",
    "final[columns_to_scale] = scaler.fit_transform(final[columns_to_scale])"
   ]
  },
  {
   "cell_type": "code",
   "execution_count": 8,
   "metadata": {},
   "outputs": [],
   "source": [
    "# Save the preprocessed data to a new CSV file\n",
    "final.to_csv('preprocessed_data/preprocessed_urban.csv', index=False)"
   ]
  }
 ],
 "metadata": {
  "kernelspec": {
   "display_name": "base",
   "language": "python",
   "name": "python3"
  },
  "language_info": {
   "codemirror_mode": {
    "name": "ipython",
    "version": 3
   },
   "file_extension": ".py",
   "mimetype": "text/x-python",
   "name": "python",
   "nbconvert_exporter": "python",
   "pygments_lexer": "ipython3",
   "version": "3.11.9"
  }
 },
 "nbformat": 4,
 "nbformat_minor": 2
}
